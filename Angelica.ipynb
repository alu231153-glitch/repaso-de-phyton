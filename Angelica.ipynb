{
  "nbformat": 4,
  "nbformat_minor": 0,
  "metadata": {
    "colab": {
      "provenance": [],
      "authorship_tag": "ABX9TyP7FLGGiHMKtbg8mNXsn9mJ",
      "include_colab_link": true
    },
    "kernelspec": {
      "name": "python3",
      "display_name": "Python 3"
    },
    "language_info": {
      "name": "python"
    }
  },
  "cells": [
    {
      "cell_type": "markdown",
      "metadata": {
        "id": "view-in-github",
        "colab_type": "text"
      },
      "source": [
        "<a href=\"https://colab.research.google.com/github/alu231153-glitch/repaso-de-phyton/blob/main/Angelica.ipynb\" target=\"_parent\"><img src=\"https://colab.research.google.com/assets/colab-badge.svg\" alt=\"Open In Colab\"/></a>"
      ]
    },
    {
      "cell_type": "code",
      "execution_count": 1,
      "metadata": {
        "colab": {
          "base_uri": "https://localhost:8080/"
        },
        "id": "SY8_dZdL9VtB",
        "outputId": "44424912-bb4f-45a3-b4ef-4440b8a8b42c"
      },
      "outputs": [
        {
          "output_type": "stream",
          "name": "stdout",
          "text": [
            "hola mundo\n",
            "Captura tu nombre S\n",
            "S\n"
          ]
        }
      ],
      "source": [
        "print (\"hola mundo\")\n",
        "nombre = (input(\"Captura tu nombre \"))\n",
        "print (nombre)"
      ]
    },
    {
      "cell_type": "code",
      "source": [
        "n = (input(\"Captura tu nombre \"))\n",
        "\n",
        "p = (input(\"Captura tu pat \"))\n",
        "\n",
        "m = (input(\"Captura tu mat \"))\n",
        "print (n+p+m)"
      ],
      "metadata": {
        "colab": {
          "base_uri": "https://localhost:8080/"
        },
        "id": "_SuXuMs69a5L",
        "outputId": "0a19dbf0-9c69-4fec-ba7e-579bb6ef4e1c"
      },
      "execution_count": 2,
      "outputs": [
        {
          "output_type": "stream",
          "name": "stdout",
          "text": [
            "Captura tu nombre S\n",
            "Captura tu pat G\n",
            "Captura tu mat P\n",
            "SGP\n"
          ]
        }
      ]
    }
  ]
}