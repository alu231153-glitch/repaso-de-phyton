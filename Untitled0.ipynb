{
  "nbformat": 4,
  "nbformat_minor": 0,
  "metadata": {
    "colab": {
      "provenance": [],
      "authorship_tag": "ABX9TyMV5GpOMSsX3eHU/PLalYG1",
      "include_colab_link": true
    },
    "kernelspec": {
      "name": "python3",
      "display_name": "Python 3"
    },
    "language_info": {
      "name": "python"
    }
  },
  "cells": [
    {
      "cell_type": "markdown",
      "metadata": {
        "id": "view-in-github",
        "colab_type": "text"
      },
      "source": [
        "<a href=\"https://colab.research.google.com/github/alu231153-glitch/repaso-de-phyton/blob/main/Untitled0.ipynb\" target=\"_parent\"><img src=\"https://colab.research.google.com/assets/colab-badge.svg\" alt=\"Open In Colab\"/></a>"
      ]
    },
    {
      "cell_type": "code",
      "execution_count": null,
      "metadata": {
        "id": "-ei-cIte9_9u"
      },
      "outputs": [],
      "source": []
    },
    {
      "cell_type": "markdown",
      "source": [
        "captura 2 numeros enteros"
      ],
      "metadata": {
        "id": "5C40vimo-ZUV"
      }
    },
    {
      "cell_type": "code",
      "source": [
        "num1=int(input(\"ingrese el primer numero\"))\n",
        "num2=int(input(\"ingrese el segundo numero\"))\n",
        "print (\"Suma\" , num1+num2)\n",
        "print (\"Resta\" ,num1-num2)\n",
        "print (\"Multiplicacion\" ,num1*num2)\n",
        "print (\"Division\" ,num1/num2)"
      ],
      "metadata": {
        "colab": {
          "base_uri": "https://localhost:8080/"
        },
        "id": "jesAOq43-hB1",
        "outputId": "f82e9e9a-6fa5-4466-c271-8995b5689851"
      },
      "execution_count": 3,
      "outputs": [
        {
          "output_type": "stream",
          "name": "stdout",
          "text": [
            "ingrese el primer numero5\n",
            "ingrese el segundo numero5\n",
            "Suma 10\n",
            "Resta 0\n",
            "Multiplicacion 25\n",
            "Division 1.0\n"
          ]
        }
      ]
    },
    {
      "cell_type": "markdown",
      "source": [
        "total de caracteres"
      ],
      "metadata": {
        "id": "o7y9rqjC_p6j"
      }
    },
    {
      "cell_type": "code",
      "source": [
        "nombre=input(\"captura tu nombre\")\n",
        "totalletras=len(nombre)\n",
        "print(\"El total de letras es \", totalletras)"
      ],
      "metadata": {
        "colab": {
          "base_uri": "https://localhost:8080/"
        },
        "id": "pm0y5rOn_ugi",
        "outputId": "c321628e-8603-495b-c21c-13b55bf34499"
      },
      "execution_count": 1,
      "outputs": [
        {
          "output_type": "stream",
          "name": "stdout",
          "text": [
            "captura tu nombreangi\n",
            "El total de letras es  4\n"
          ]
        }
      ]
    },
    {
      "cell_type": "markdown",
      "source": [
        "7 dias"
      ],
      "metadata": {
        "id": "Avjq7oMrCSrN"
      }
    },
    {
      "cell_type": "code",
      "source": [],
      "metadata": {
        "id": "GC3lgDHECV5U"
      },
      "execution_count": null,
      "outputs": []
    },
    {
      "cell_type": "code",
      "source": [
        "semana=[\"Lunes\", \"Martes\", \"Mier\", \"Juev\", \"Vier\", \"Sab\", \"Dom\"]\n",
        "for dia in semana:\n",
        "  print (dia)"
      ],
      "metadata": {
        "colab": {
          "base_uri": "https://localhost:8080/"
        },
        "id": "BekGv6DkCXZm",
        "outputId": "9f52ba39-7594-474e-9dff-823384970241"
      },
      "execution_count": 5,
      "outputs": [
        {
          "output_type": "stream",
          "name": "stdout",
          "text": [
            "Lunes\n",
            "Martes\n",
            "Mier\n",
            "Juev\n",
            "Vier\n",
            "Sab\n",
            "Dom\n"
          ]
        }
      ]
    }
  ]
}