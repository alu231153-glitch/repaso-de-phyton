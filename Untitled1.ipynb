{
  "nbformat": 4,
  "nbformat_minor": 0,
  "metadata": {
    "colab": {
      "provenance": [],
      "authorship_tag": "ABX9TyOlW8OcJ0dLcnJTjJX6Jymf",
      "include_colab_link": true
    },
    "kernelspec": {
      "name": "python3",
      "display_name": "Python 3"
    },
    "language_info": {
      "name": "python"
    }
  },
  "cells": [
    {
      "cell_type": "markdown",
      "metadata": {
        "id": "view-in-github",
        "colab_type": "text"
      },
      "source": [
        "<a href=\"https://colab.research.google.com/github/alu231153-glitch/repaso-de-phyton/blob/main/Untitled1.ipynb\" target=\"_parent\"><img src=\"https://colab.research.google.com/assets/colab-badge.svg\" alt=\"Open In Colab\"/></a>"
      ]
    },
    {
      "cell_type": "code",
      "execution_count": null,
      "metadata": {
        "id": "LKamhYXs23ix"
      },
      "outputs": [],
      "source": []
    },
    {
      "cell_type": "markdown",
      "source": [
        "nombre completo"
      ],
      "metadata": {
        "id": "Rl_Nw3-n24zJ"
      }
    },
    {
      "cell_type": "code",
      "source": [
        "n=(input(\"captura tu nombre \"))\n",
        "\n",
        "p=(input(\"captura tu pat \"))\n",
        "\n",
        "m=(input(\"captura tu mat \"))\n",
        "\n",
        "print(n+p+m)\n"
      ],
      "metadata": {
        "colab": {
          "base_uri": "https://localhost:8080/"
        },
        "id": "dMkFIzvT28x-",
        "outputId": "70d238a5-cc12-4120-aa49-845855d44925"
      },
      "execution_count": 4,
      "outputs": [
        {
          "output_type": "stream",
          "name": "stdout",
          "text": [
            "captura tu nombre angelica\n",
            "captura tu pat sauza\n",
            "captura tu mat muñoz\n",
            "angelicasauzamuñoz\n"
          ]
        }
      ]
    },
    {
      "cell_type": "markdown",
      "source": [
        "captura dos numeros decimiales y la suma"
      ],
      "metadata": {
        "id": "Hd14wp8d4j_L"
      }
    },
    {
      "cell_type": "code",
      "source": [
        "num1=(float(input(\"captura tu primer numero: \")))\n",
        "num2=(float(input(\"captura tu segundo numero: \")))\n",
        "sum = num1 + num2\n",
        "print (\"resultados\")\n",
        "print (\"suma: \",sum)"
      ],
      "metadata": {
        "colab": {
          "base_uri": "https://localhost:8080/"
        },
        "id": "vNxHAunI4vsY",
        "outputId": "fe3ef507-aa5d-47d3-ff5e-7594f3b60186"
      },
      "execution_count": 5,
      "outputs": [
        {
          "output_type": "stream",
          "name": "stdout",
          "text": [
            "captura tu primer numero: 2.5\n",
            "captura tu segundo numero: 2.5\n",
            "resultados\n",
            "suma:  5.0\n"
          ]
        }
      ]
    },
    {
      "cell_type": "markdown",
      "source": [
        "calcula el area de un circulo"
      ],
      "metadata": {
        "id": "l1UNnsST5vfn"
      }
    },
    {
      "cell_type": "code",
      "source": [
        "num1=(float(input(\"captura tu radio del circulo: \")))\n",
        "area = (3.1416 *num1)*num1\n",
        "print (\"resultados\")\n",
        "print (\"area del circulo: \", area)"
      ],
      "metadata": {
        "colab": {
          "base_uri": "https://localhost:8080/"
        },
        "id": "qkpxCvLq5y_-",
        "outputId": "00fc9b1a-6878-483c-a5b7-39c0b4262caf"
      },
      "execution_count": 6,
      "outputs": [
        {
          "output_type": "stream",
          "name": "stdout",
          "text": [
            "captura tu radio del circulo: 5\n",
            "resultados\n",
            "area del circulo:  78.54\n"
          ]
        }
      ]
    },
    {
      "cell_type": "markdown",
      "source": [
        "programa semestre pasado"
      ],
      "metadata": {
        "id": "ESrODRA06lp9"
      }
    },
    {
      "cell_type": "code",
      "source": [
        "celsius = float(input(\"Introduce los grados celsius \"))\n",
        "fare = (celsius * 9/5 ) + 32\n",
        "print(f\"{celsius} grados celsius son {fare} grados fare\")"
      ],
      "metadata": {
        "colab": {
          "base_uri": "https://localhost:8080/"
        },
        "id": "EmKRO4mf6wXt",
        "outputId": "f6f5a0d0-3435-4fae-e346-98ea398762a9"
      },
      "execution_count": 7,
      "outputs": [
        {
          "output_type": "stream",
          "name": "stdout",
          "text": [
            "Introduce los grados celsius 5\n",
            "5.0 grados celsius son 41.0 grados fare\n"
          ]
        }
      ]
    }
  ]
}